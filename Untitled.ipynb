{
 "cells": [
  {
   "cell_type": "code",
   "execution_count": 2,
   "metadata": {},
   "outputs": [],
   "source": [
    "a = 3\n",
    "b = 4\n",
    "P = (a + b)*2\n",
    "S = a*b"
   ]
  },
  {
   "cell_type": "code",
   "execution_count": 3,
   "metadata": {},
   "outputs": [
    {
     "name": "stdout",
     "output_type": "stream",
     "text": [
      "Периметр = 14\n",
      "Площадь = 12\n"
     ]
    }
   ],
   "source": [
    "print('Периметр =', P)\n",
    "print('Площадь =', S)"
   ]
  },
  {
   "cell_type": "code",
   "execution_count": 4,
   "metadata": {},
   "outputs": [
    {
     "name": "stdout",
     "output_type": "stream",
     "text": [
      "3\n"
     ]
    }
   ],
   "source": [
    "names = [3, 4, 5, 1, 'a']\n",
    "print(names[0])"
   ]
  },
  {
   "cell_type": "code",
   "execution_count": 5,
   "metadata": {},
   "outputs": [
    {
     "name": "stdout",
     "output_type": "stream",
     "text": [
      "Как дела? Отлично\n"
     ]
    }
   ],
   "source": [
    "import random\n",
    "\n",
    "answers = ['Нормально', 'Отлично', 'Плохо', 'Шикарно']\n",
    "\n",
    "print('Как дела?', '', end='')\n",
    "print(random.choice(answers))"
   ]
  },
  {
   "cell_type": "code",
   "execution_count": 6,
   "metadata": {},
   "outputs": [
    {
     "name": "stdout",
     "output_type": "stream",
     "text": [
      "Открой\n"
     ]
    }
   ],
   "source": [
    "text = 'Открыто окно'\n",
    "text = False\n",
    "if text:\n",
    "    print('Закрой окно')\n",
    "else:\n",
    "    print('Открой')\n",
    "    \n"
   ]
  },
  {
   "cell_type": "code",
   "execution_count": 22,
   "metadata": {},
   "outputs": [
    {
     "name": "stdout",
     "output_type": "stream",
     "text": [
      "7\n",
      "8\n",
      "7 <class 'int'> 8 <class 'int'>\n"
     ]
    }
   ],
   "source": [
    "number1_str = input()\n",
    "number2_str = input()\n",
    "number1_int = int(number1_str)\n",
    "number2_int = int(number2_str)\n",
    "print(number1_int, type(number1_int), number2_int, type(number2_int))\n"
   ]
  },
  {
   "cell_type": "code",
   "execution_count": 1,
   "metadata": {},
   "outputs": [
    {
     "name": "stdout",
     "output_type": "stream",
     "text": [
      "onetwo\n"
     ]
    }
   ],
   "source": [
    "print('one'+'two')"
   ]
  },
  {
   "cell_type": "code",
   "execution_count": 13,
   "metadata": {},
   "outputs": [
    {
     "name": "stdout",
     "output_type": "stream",
     "text": [
      "2100\n"
     ]
    }
   ],
   "source": [
    "print('2' + '100')\n"
   ]
  },
  {
   "cell_type": "code",
   "execution_count": 34,
   "metadata": {},
   "outputs": [
    {
     "name": "stdout",
     "output_type": "stream",
     "text": [
      "Введи 1-ое число: 5\n",
      "Введи 2-ое число: 5\n",
      "Числа равны\n"
     ]
    }
   ],
   "source": [
    "number1 = input('Введи 1-ое число: ')\n",
    "number2 = input('Введи 2-ое число: ')\n",
    "if number1 > number2:\n",
    "    print(number1, '- максимальное')\n",
    "    print(f'{number2} - минимальное')   \n",
    "elif number1 < number2:\n",
    "    print(number2, '- максимальное')\n",
    "    print(f'{number1} - минимальное')\n",
    "else:\n",
    "    print('Числа равны')\n",
    "\n",
    "# Пользователь вводит два числа - катеты, нужно вывести гипотенузу    \n",
    "\n"
   ]
  },
  {
   "cell_type": "code",
   "execution_count": 46,
   "metadata": {},
   "outputs": [
    {
     "name": "stdout",
     "output_type": "stream",
     "text": [
      "Это не Оля\n",
      "Это Оля\n",
      "Это не Оля\n",
      "Это не Оля\n"
     ]
    }
   ],
   "source": [
    "names = ['Даша','Оля', 'Катя', 'Маша']\n",
    "for name in names:\n",
    "    if name == 'Оля':\n",
    "        print('Это Оля')\n",
    "    else:\n",
    "        print('Это не Оля')\n",
    "    \n",
    "    "
   ]
  },
  {
   "cell_type": "code",
   "execution_count": 21,
   "metadata": {},
   "outputs": [
    {
     "name": "stdout",
     "output_type": "stream",
     "text": [
      "Введите имя: Катя\n",
      "Не является членом семьи\n"
     ]
    }
   ],
   "source": [
    "family_members = ['Елена', 'Андрей', 'Юра']\n",
    "\n",
    "name = input('Введите имя: ')\n",
    "\n",
    "if name == 'Лена' or name == 'лена' or name == 'елена':\n",
    "    name = 'Елена'\n",
    "if name == 'Екатерина':\n",
    "    name = 'Катя'\n",
    "if name in family_members:\n",
    "    print('Является членом семьи')\n",
    "else:\n",
    "    print('Не является членом семьи')"
   ]
  },
  {
   "cell_type": "code",
   "execution_count": 29,
   "metadata": {},
   "outputs": [
    {
     "name": "stdout",
     "output_type": "stream",
     "text": [
      "Введите a: 3\n",
      "Введите b: 45\n",
      "Введите c: 6\n",
      "1953\n",
      "Два решения\n"
     ]
    }
   ],
   "source": [
    "# x^2+3*x-5=0\n",
    "\n",
    "a = int(input('Введите a: '))\n",
    "b = int(input('Введите b: '))\n",
    "c = int(input('Введите c: '))\n",
    "discriminant = b**2 - 4*a*c\n",
    "print(discriminant)\n",
    "if discriminant > 0:\n",
    "    print('Два решения')\n",
    "elif discriminant == 0:\n",
    "    print('Одно решение')\n",
    "else:\n",
    "    print('Нет решений')"
   ]
  },
  {
   "cell_type": "code",
   "execution_count": 6,
   "metadata": {},
   "outputs": [
    {
     "name": "stdout",
     "output_type": "stream",
     "text": [
      "В каком классе Катя?\n",
      "Введите ответ: 9\n",
      "Ответ правильный\n"
     ]
    }
   ],
   "source": [
    "print('В каком классе Катя?')\n",
    "prav_otver = 9\n",
    "vved_otvet = int(input('Введите ответ: '))\n",
    "if vved_otvet == prav_otver:\n",
    "    print('Ответ правильный')\n",
    "else:\n",
    "    print('Ответ неверный')"
   ]
  },
  {
   "cell_type": "code",
   "execution_count": 3,
   "metadata": {},
   "outputs": [
    {
     "name": "stdout",
     "output_type": "stream",
     "text": [
      "Введите имя: hgjh\n",
      "Добрый день, hgjh\n"
     ]
    }
   ],
   "source": [
    "name = input('Введите имя: ')\n",
    "print('Добрый день, '+ name)"
   ]
  },
  {
   "cell_type": "code",
   "execution_count": null,
   "metadata": {},
   "outputs": [],
   "source": [
    "age = int(input('Введите возраст: '))\n",
    "if age >= 18:\n",
    "print('Взрослый')\n",
    "    print('jghfj')\n",
    "    if \n",
    "elif age<18 and age>=12:\n",
    "    print(\"Teen\")\n",
    "else:\n",
    "    print('   ')\n",
    "    otvet = input('Введите ответ: ')\n",
    "    "
   ]
  },
  {
   "cell_type": "code",
   "execution_count": 1,
   "metadata": {},
   "outputs": [
    {
     "name": "stdout",
     "output_type": "stream",
     "text": [
      "* * * * * \n",
      "* * * * * \n",
      "* * * * * \n",
      "* * * * * \n",
      "* * * * * \n"
     ]
    }
   ],
   "source": [
    "z='*'\n",
    "\n",
    "for i in range(5):\n",
    "    for j in range(5):\n",
    "        print(z, end=' ')\n",
    "    print()\n",
    "        "
   ]
  },
  {
   "cell_type": "code",
   "execution_count": 14,
   "metadata": {},
   "outputs": [
    {
     "name": "stdout",
     "output_type": "stream",
     "text": [
      "Введите a: 1\n",
      "Введите b: -4\n",
      "Введите c: 4\n",
      "Одно решение\n",
      "x1 = 2.0\n"
     ]
    }
   ],
   "source": [
    "# x^2-10x+9=0   - два решения\n",
    "# x^2-4x+4   - одно решение\n",
    "\n",
    "import math\n",
    "\n",
    "a = int(input('Введите a: '))\n",
    "b = int(input('Введите b: '))\n",
    "c = int(input('Введите c: '))\n",
    "\n",
    "dis = b**2 - 4*a*c\n",
    "\n",
    "if dis > 0:\n",
    "    print('Два решения')\n",
    "    x1 = (-b + math.sqrt(dis))/(2*a)\n",
    "    x2 = (-b - math.sqrt(dis))/(2*a)\n",
    "    print('x1 =', x1, 'x2 =', x2)\n",
    "elif dis == 0:\n",
    "    print('Одно решение')\n",
    "    x1 = (-b + math.sqrt(dis))/(2*a)\n",
    "    print('x1 =', x1)\n",
    "else:\n",
    "    print('Нет решений')\n",
    "    "
   ]
  },
  {
   "cell_type": "code",
   "execution_count": 32,
   "metadata": {},
   "outputs": [
    {
     "name": "stdout",
     "output_type": "stream",
     "text": [
      "1 - это не 5\n",
      "2 - это не 5\n",
      "3 - это не 5\n",
      "4 - это не 5\n",
      "5 - это 5\n",
      "6 - это не 5\n",
      "7 - это не 5\n",
      "8 - это не 5\n",
      "9 - это не 5\n",
      "10 - это не 5\n"
     ]
    }
   ],
   "source": [
    "for i in range(1,11):\n",
    "    if i==5:\n",
    "        print(i, '- это 5')\n",
    "    else:\n",
    "        print(i, '- это не 5')"
   ]
  },
  {
   "cell_type": "code",
   "execution_count": 35,
   "metadata": {},
   "outputs": [
    {
     "name": "stdout",
     "output_type": "stream",
     "text": [
      "Введите количество чисел в последовательности: 4\n",
      "Введите число: 16\n",
      "Введите число: 28\n",
      "Введите число: 26\n",
      "Введите число: 24\n",
      "Количество кратных 4 и не кратных 7: 2\n"
     ]
    }
   ],
   "source": [
    "n = int(input('Введите количество чисел в последовательности: '))\n",
    "\n",
    "count = 0\n",
    "\n",
    "for i in range(n):\n",
    "    number = int(input('Введите число: '))\n",
    "    if number%4==0 and number%7!=0:\n",
    "#         print('Число кратное 4, но не кратное 7:', number)\n",
    "        count = count + 1\n",
    "print('Количество кратных 4 и не кратных 7:', count)\n",
    " "
   ]
  },
  {
   "cell_type": "code",
   "execution_count": 1,
   "metadata": {},
   "outputs": [
    {
     "name": "stdout",
     "output_type": "stream",
     "text": [
      "Enter the number: 3\n",
      "Enter the number: f\n"
     ]
    }
   ],
   "source": [
    "while True:\n",
    "    try:\n",
    "        n = input('Enter the number: ')\n",
    "        n = int(n)         \n",
    "    except ValueError:\n",
    "        break\n",
    "            "
   ]
  },
  {
   "cell_type": "code",
   "execution_count": 2,
   "metadata": {},
   "outputs": [
    {
     "name": "stdout",
     "output_type": "stream",
     "text": [
      "True\n"
     ]
    }
   ],
   "source": [
    "print(2*2==4)"
   ]
  },
  {
   "cell_type": "code",
   "execution_count": 12,
   "metadata": {},
   "outputs": [
    {
     "name": "stdout",
     "output_type": "stream",
     "text": [
      "3\n",
      "3.5\n",
      "1\n",
      "False\n"
     ]
    }
   ],
   "source": [
    "print(7 // 2)\n",
    "print(7 / 2)\n",
    "print(7 % 2)\n",
    "print(13 % 6 == 0)"
   ]
  },
  {
   "cell_type": "code",
   "execution_count": 19,
   "metadata": {},
   "outputs": [
    {
     "name": "stdout",
     "output_type": "stream",
     "text": [
      "Введите количество: 6\n",
      "0\n",
      "1\n",
      "2\n",
      "3\n",
      "4\n",
      "5\n"
     ]
    }
   ],
   "source": [
    "n = int(input('Введите количество: '))\n",
    "for kl in range(n):\n",
    "    print(kl)"
   ]
  },
  {
   "cell_type": "code",
   "execution_count": 22,
   "metadata": {},
   "outputs": [
    {
     "name": "stdout",
     "output_type": "stream",
     "text": [
      "Введите число: 4\n",
      "Введите число: -5\n",
      "Введите число: 2\n",
      "Введите число: 6\n",
      "Введите число: 7\n"
     ]
    }
   ],
   "source": [
    "for i in range(1,6): # 1,2,3,4,5\n",
    "    number = int(input('Введите число: '))"
   ]
  },
  {
   "cell_type": "code",
   "execution_count": 27,
   "metadata": {},
   "outputs": [
    {
     "name": "stdout",
     "output_type": "stream",
     "text": [
      "l\n",
      "e\n",
      "t\n",
      "t\n",
      "e\n",
      "r\n"
     ]
    }
   ],
   "source": [
    "for i in family:\n",
    "    print(i)"
   ]
  },
  {
   "cell_type": "code",
   "execution_count": 75,
   "metadata": {},
   "outputs": [
    {
     "name": "stdout",
     "output_type": "stream",
     "text": [
      "* * * * * * * \n",
      "* *       * * \n",
      "*   *   *   * \n",
      "*     *     * \n",
      "*   *   *   * \n",
      "* *       * * \n",
      "* * * * * * * \n"
     ]
    }
   ],
   "source": [
    "z='*'\n",
    "n = 7\n",
    "\n",
    "for i in range(n):\n",
    "    for j in range(n):\n",
    "        if i == 0 or j == 0 or i == n-1 or j == n-1 or  i == j or j == n-1-i:\n",
    "            print(z, end=' ')\n",
    "        else:\n",
    "            print(' ', end=' ')\n",
    "    print()"
   ]
  },
  {
   "cell_type": "code",
   "execution_count": 32,
   "metadata": {},
   "outputs": [],
   "source": [
    "input_string = '79261234567'\n",
    "input_string = input_string.lstrip('7')"
   ]
  },
  {
   "cell_type": "code",
   "execution_count": 33,
   "metadata": {},
   "outputs": [
    {
     "data": {
      "text/plain": [
       "'9261234567'"
      ]
     },
     "execution_count": 33,
     "metadata": {},
     "output_type": "execute_result"
    }
   ],
   "source": [
    "input_string"
   ]
  },
  {
   "cell_type": "code",
   "execution_count": 77,
   "metadata": {},
   "outputs": [
    {
     "name": "stdout",
     "output_type": "stream",
     "text": [
      "7\n",
      "Привет\n",
      "Привет\n",
      "Привет\n",
      "Привет\n",
      "Привет\n",
      "Привет\n",
      "Привет\n"
     ]
    }
   ],
   "source": [
    "n = int(input())\n",
    "\n",
    "for i in range(n):\n",
    "    print('Привет')"
   ]
  },
  {
   "cell_type": "code",
   "execution_count": 47,
   "metadata": {},
   "outputs": [
    {
     "name": "stdout",
     "output_type": "stream",
     "text": [
      "Какая сегодня погода: 24\n",
      "Не иди на пляж\n"
     ]
    }
   ],
   "source": [
    "temperature_today = int(input('Какая сегодня погода: '))\n",
    "\n",
    "if temperature_today > 25:\n",
    "    print('Иди на пляж')\n",
    "else:\n",
    "    print('Не иди на пляж')\n"
   ]
  },
  {
   "cell_type": "code",
   "execution_count": 78,
   "metadata": {},
   "outputs": [
    {
     "name": "stdout",
     "output_type": "stream",
     "text": [
      "678\n",
      "6\n",
      "7\n",
      "8\n",
      "Сумма цифр =  21\n"
     ]
    }
   ],
   "source": [
    "n = int(input()) \n",
    "\n",
    "a = n // 100 # 1,56  \n",
    "print(a)\n",
    "\n",
    "b = (n // 10) % 10 # 15,6 -> 15 -> 1,5\n",
    "print(b)\n",
    "\n",
    "c = n % 10   # 15,6\n",
    "print(c)\n",
    "\n",
    "summa = a + b + c\n",
    "print('Сумма цифр = ', summa)\n",
    "# print(7 / 2) \n",
    "# print(7 // 2)  \n",
    "# print(7 % 2)\n"
   ]
  },
  {
   "cell_type": "code",
   "execution_count": 67,
   "metadata": {},
   "outputs": [
    {
     "name": "stdout",
     "output_type": "stream",
     "text": [
      "6\n"
     ]
    }
   ],
   "source": [
    "n = 123\n",
    "\n",
    "n_str = str(n)\n",
    "\n",
    "a = int(n_str[0]) #1\n",
    "b = int(n_str[1]) #2\n",
    "c = int(n_str[2]) #3\n",
    "\n",
    "print(a+b+c)"
   ]
  },
  {
   "cell_type": "code",
   "execution_count": 4,
   "metadata": {},
   "outputs": [
    {
     "name": "stdout",
     "output_type": "stream",
     "text": [
      "Олег - 2\n"
     ]
    }
   ],
   "source": [
    "people = ['Оля', 'Артем', 'Олег']\n",
    "\n",
    "for i in range(len(people)):\n",
    "    if people[i] == 'Олег':\n",
    "        print('{} - {}'. format(people[i], i))"
   ]
  },
  {
   "cell_type": "code",
   "execution_count": 40,
   "metadata": {},
   "outputs": [
    {
     "name": "stdout",
     "output_type": "stream",
     "text": [
      "* * * * *\n",
      "* * * * *\n",
      "* * * * *\n",
      "* * * * *\n",
      "* * * * *\n"
     ]
    }
   ],
   "source": [
    "z = '* '\n",
    "n = 5\n",
    "for i in range(n):\n",
    "    print((z*n).strip(' '))\n",
    "    "
   ]
  },
  {
   "cell_type": "code",
   "execution_count": 1,
   "metadata": {},
   "outputs": [
    {
     "name": "stdout",
     "output_type": "stream",
     "text": [
      "4\n",
      "3\n",
      "2\n",
      "1\n"
     ]
    }
   ],
   "source": [
    "n = 1234\n",
    "while n > 0:\n",
    "    print(n % 10)\n",
    "    n = n // 10"
   ]
  },
  {
   "cell_type": "code",
   "execution_count": 4,
   "metadata": {},
   "outputs": [
    {
     "name": "stdout",
     "output_type": "stream",
     "text": [
      "6\n"
     ]
    }
   ],
   "source": [
    "sum = 0\n",
    "for i in range(1,4):\n",
    "    sum+=i\n",
    "print(sum)"
   ]
  },
  {
   "cell_type": "code",
   "execution_count": 2,
   "metadata": {},
   "outputs": [
    {
     "name": "stdout",
     "output_type": "stream",
     "text": [
      "6\n",
      "4\n",
      "45\n",
      "-8\n",
      "-6.5\n",
      "3.4\n",
      "f\n"
     ]
    }
   ],
   "source": [
    "while True:\n",
    "    try:\n",
    "        float(input())\n",
    "    except ValueError:\n",
    "        break"
   ]
  },
  {
   "cell_type": "code",
   "execution_count": 16,
   "metadata": {},
   "outputs": [
    {
     "name": "stdout",
     "output_type": "stream",
     "text": [
      "Который час? 5\n",
      "Доброй ночи!\n"
     ]
    }
   ],
   "source": [
    "n = int(input('Который час? '))\n",
    "if n >= 6 and n < 12:\n",
    "    print('Доброе утро!')\n",
    "elif n >= 12 and n < 16:\n",
    "    print('Добрый день!')\n",
    "elif n >= 16 and n < 21:\n",
    "    print('Добрый вечер!')\n",
    "elif (n >= 21 and n <= 24) or (n > 0 and n < 6):\n",
    "    print('Доброй ночи!')\n"
   ]
  },
  {
   "cell_type": "code",
   "execution_count": 28,
   "metadata": {},
   "outputs": [
    {
     "name": "stdout",
     "output_type": "stream",
     "text": [
      "10\n"
     ]
    }
   ],
   "source": [
    "summa = 0\n",
    "for i in range(1,5):\n",
    "#     print(i)\n",
    "    summa = summa + i\n",
    "print(summa)\n",
    "    "
   ]
  },
  {
   "cell_type": "code",
   "execution_count": 33,
   "metadata": {},
   "outputs": [
    {
     "name": "stdout",
     "output_type": "stream",
     "text": [
      "Введи число: 7\n",
      "Положительное\n"
     ]
    }
   ],
   "source": [
    "n = int(input('Введи число: '))\n",
    "if n > 0:\n",
    "    print('Положительное')\n",
    "elif n < 0:\n",
    "    print('Отрицательное')\n",
    "else:\n",
    "    print('Ноль') "
   ]
  },
  {
   "cell_type": "code",
   "execution_count": 21,
   "metadata": {},
   "outputs": [
    {
     "name": "stdout",
     "output_type": "stream",
     "text": [
      "Введите a: 1\n",
      "Введите b: -6\n",
      "Введите c: 9\n",
      "Дискриминант = 0\n",
      "Одно решение\n",
      "x1 = 3\n"
     ]
    }
   ],
   "source": [
    "# x^2 + x -6 = 0\n",
    "# x^2 -6x + 9 = 0\n",
    "import math\n",
    "\n",
    "a = int(input('Введите a: '))\n",
    "b = int(input('Введите b: '))\n",
    "c = int(input('Введите c: '))\n",
    "\n",
    "dis = b**2 - 4*a*c\n",
    "print('Дискриминант =', dis)\n",
    "\n",
    "if dis > 0:\n",
    "    print('Два решения')\n",
    "    x1 = (-b + math.sqrt(dis))/(2*a)\n",
    "    x2 = (-b - math.sqrt(dis))/(2*a)\n",
    "    print('x1 =', x1, ';', 'x2 =', x2)\n",
    "elif dis == 0:\n",
    "    print('Одно решение')\n",
    "    x1 = (-b)/(2*a)\n",
    "    print('x1 =', x1)\n",
    "else:\n",
    "    print('Нет решений')\n",
    "\n"
   ]
  },
  {
   "cell_type": "code",
   "execution_count": null,
   "metadata": {},
   "outputs": [],
   "source": []
  },
  {
   "cell_type": "code",
   "execution_count": null,
   "metadata": {},
   "outputs": [],
   "source": []
  },
  {
   "cell_type": "code",
   "execution_count": 3,
   "metadata": {},
   "outputs": [
    {
     "name": "stdout",
     "output_type": "stream",
     "text": [
      "Введите a: 1\n",
      "Введите b: 1\n",
      "Введите c: -6\n",
      "x1 = -3; x2 = 2\n",
      "x1 = 2; x2 = -3\n"
     ]
    }
   ],
   "source": [
    "a = int(input('Введите a: '))\n",
    "b = int(input('Введите b: '))\n",
    "c = int(input('Введите c: '))\n",
    "\n",
    "for x1 in range(-10, 11):\n",
    "    for x2 in range(-10, 11):\n",
    "        if x1 + x2 == -b / a and x1 * x2 == c / a:\n",
    "            print('x1 = {}; x2 = {}'.format(x1, x2))"
   ]
  },
  {
   "cell_type": "code",
   "execution_count": 10,
   "metadata": {},
   "outputs": [
    {
     "name": "stdout",
     "output_type": "stream",
     "text": [
      "1\n",
      "1\n",
      "3\n",
      "2\n",
      "6\n",
      "3\n",
      "10\n",
      "4\n",
      "10\n"
     ]
    }
   ],
   "source": [
    "summary = 0\n",
    "\n",
    "for number in range(1, 5):\n",
    "    summary = number + summary \n",
    "print(summary)"
   ]
  },
  {
   "cell_type": "markdown",
   "metadata": {},
   "source": [
    "## 17-ое задание"
   ]
  },
  {
   "cell_type": "code",
   "execution_count": 194,
   "metadata": {},
   "outputs": [
    {
     "name": "stdout",
     "output_type": "stream",
     "text": [
      "1568 7935\n"
     ]
    }
   ],
   "source": [
    "count = 0\n",
    "possible_numbers = []\n",
    "for number in range(1016, 7938):\n",
    "    if number % 3 == 0 and number % 7 != 0 and number % 17 != 0 and number % 19 != 0 and number % 27 != 0:\n",
    "        count+=1\n",
    "        possible_numbers.append(number)\n",
    "print(count, max(possible_numbers))"
   ]
  },
  {
   "cell_type": "code",
   "execution_count": 195,
   "metadata": {},
   "outputs": [
    {
     "name": "stdout",
     "output_type": "stream",
     "text": [
      "1568 7935\n"
     ]
    }
   ],
   "source": [
    "count = 0\n",
    "m = 0\n",
    "for number in range(1016, 7938):\n",
    "    if number % 3 == 0 and number % 7 != 0 and number % 17 != 0 and number % 19 != 0 and number % 27 != 0:\n",
    "        count+=1\n",
    "        if number > m:\n",
    "            m = number\n",
    "print(count, m)"
   ]
  },
  {
   "cell_type": "markdown",
   "metadata": {},
   "source": [
    "## 16-ое задание"
   ]
  },
  {
   "cell_type": "code",
   "execution_count": 7,
   "metadata": {},
   "outputs": [
    {
     "data": {
      "text/plain": [
       "4122"
      ]
     },
     "execution_count": 7,
     "metadata": {},
     "output_type": "execute_result"
    }
   ],
   "source": [
    "def function(n):\n",
    "    if n == 1:\n",
    "        return 1\n",
    "    if n % 2 == 0:\n",
    "        return n + function(n-1)\n",
    "    else:\n",
    "        return 2 * function(n-2)\n",
    "\n",
    "function(26)"
   ]
  },
  {
   "cell_type": "code",
   "execution_count": 207,
   "metadata": {},
   "outputs": [
    {
     "name": "stdout",
     "output_type": "stream",
     "text": [
      "Огурец есть\n",
      "Помидор есть\n"
     ]
    }
   ],
   "source": [
    "products = ['огурец', 'помидор']\n",
    "\n",
    "if 'огурец' in products:\n",
    "    print('Огурец есть')\n",
    "if 'помидор' in products:\n",
    "    print('Помидор есть')"
   ]
  },
  {
   "cell_type": "markdown",
   "metadata": {},
   "source": [
    "## 18-ое задание"
   ]
  },
  {
   "cell_type": "code",
   "execution_count": 4,
   "metadata": {},
   "outputs": [
    {
     "data": {
      "text/html": [
       "<div>\n",
       "<style scoped>\n",
       "    .dataframe tbody tr th:only-of-type {\n",
       "        vertical-align: middle;\n",
       "    }\n",
       "\n",
       "    .dataframe tbody tr th {\n",
       "        vertical-align: top;\n",
       "    }\n",
       "\n",
       "    .dataframe thead th {\n",
       "        text-align: right;\n",
       "    }\n",
       "</style>\n",
       "<table border=\"1\" class=\"dataframe\">\n",
       "  <thead>\n",
       "    <tr style=\"text-align: right;\">\n",
       "      <th></th>\n",
       "      <th>0</th>\n",
       "      <th>1</th>\n",
       "      <th>2</th>\n",
       "      <th>3</th>\n",
       "      <th>4</th>\n",
       "      <th>5</th>\n",
       "      <th>6</th>\n",
       "      <th>7</th>\n",
       "      <th>8</th>\n",
       "      <th>9</th>\n",
       "      <th>...</th>\n",
       "      <th>11</th>\n",
       "      <th>12</th>\n",
       "      <th>13</th>\n",
       "      <th>14</th>\n",
       "      <th>15</th>\n",
       "      <th>16</th>\n",
       "      <th>17</th>\n",
       "      <th>18</th>\n",
       "      <th>19</th>\n",
       "      <th>20</th>\n",
       "    </tr>\n",
       "  </thead>\n",
       "  <tbody>\n",
       "    <tr>\n",
       "      <th>0</th>\n",
       "      <td>51</td>\n",
       "      <td>21</td>\n",
       "      <td>93</td>\n",
       "      <td>48</td>\n",
       "      <td>45</td>\n",
       "      <td>100</td>\n",
       "      <td>67</td>\n",
       "      <td>39</td>\n",
       "      <td>18</td>\n",
       "      <td>29</td>\n",
       "      <td>...</td>\n",
       "      <td>51</td>\n",
       "      <td>72</td>\n",
       "      <td>165</td>\n",
       "      <td>213</td>\n",
       "      <td>258</td>\n",
       "      <td>358</td>\n",
       "      <td>425</td>\n",
       "      <td>464</td>\n",
       "      <td>482</td>\n",
       "      <td>511</td>\n",
       "    </tr>\n",
       "    <tr>\n",
       "      <th>1</th>\n",
       "      <td>57</td>\n",
       "      <td>43</td>\n",
       "      <td>97</td>\n",
       "      <td>51</td>\n",
       "      <td>92</td>\n",
       "      <td>10</td>\n",
       "      <td>93</td>\n",
       "      <td>32</td>\n",
       "      <td>19</td>\n",
       "      <td>58</td>\n",
       "      <td>...</td>\n",
       "      <td>108</td>\n",
       "      <td>151</td>\n",
       "      <td>262</td>\n",
       "      <td>313</td>\n",
       "      <td>405</td>\n",
       "      <td>415</td>\n",
       "      <td>518</td>\n",
       "      <td>550</td>\n",
       "      <td>569</td>\n",
       "      <td>627</td>\n",
       "    </tr>\n",
       "    <tr>\n",
       "      <th>2</th>\n",
       "      <td>63</td>\n",
       "      <td>16</td>\n",
       "      <td>31</td>\n",
       "      <td>16</td>\n",
       "      <td>78</td>\n",
       "      <td>88</td>\n",
       "      <td>90</td>\n",
       "      <td>72</td>\n",
       "      <td>37</td>\n",
       "      <td>67</td>\n",
       "      <td>...</td>\n",
       "      <td>171</td>\n",
       "      <td>187</td>\n",
       "      <td>293</td>\n",
       "      <td>329</td>\n",
       "      <td>483</td>\n",
       "      <td>571</td>\n",
       "      <td>661</td>\n",
       "      <td>733</td>\n",
       "      <td>770</td>\n",
       "      <td>837</td>\n",
       "    </tr>\n",
       "    <tr>\n",
       "      <th>3</th>\n",
       "      <td>10</td>\n",
       "      <td>57</td>\n",
       "      <td>64</td>\n",
       "      <td>25</td>\n",
       "      <td>96</td>\n",
       "      <td>50</td>\n",
       "      <td>81</td>\n",
       "      <td>65</td>\n",
       "      <td>91</td>\n",
       "      <td>69</td>\n",
       "      <td>...</td>\n",
       "      <td>181</td>\n",
       "      <td>244</td>\n",
       "      <td>357</td>\n",
       "      <td>382</td>\n",
       "      <td>579</td>\n",
       "      <td>629</td>\n",
       "      <td>742</td>\n",
       "      <td>807</td>\n",
       "      <td>898</td>\n",
       "      <td>967</td>\n",
       "    </tr>\n",
       "    <tr>\n",
       "      <th>4</th>\n",
       "      <td>99</td>\n",
       "      <td>43</td>\n",
       "      <td>95</td>\n",
       "      <td>7</td>\n",
       "      <td>40</td>\n",
       "      <td>76</td>\n",
       "      <td>18</td>\n",
       "      <td>34</td>\n",
       "      <td>5</td>\n",
       "      <td>65</td>\n",
       "      <td>...</td>\n",
       "      <td>280</td>\n",
       "      <td>323</td>\n",
       "      <td>452</td>\n",
       "      <td>459</td>\n",
       "      <td>619</td>\n",
       "      <td>705</td>\n",
       "      <td>760</td>\n",
       "      <td>841</td>\n",
       "      <td>903</td>\n",
       "      <td>1032</td>\n",
       "    </tr>\n",
       "    <tr>\n",
       "      <th>5</th>\n",
       "      <td>35</td>\n",
       "      <td>19</td>\n",
       "      <td>71</td>\n",
       "      <td>77</td>\n",
       "      <td>64</td>\n",
       "      <td>38</td>\n",
       "      <td>62</td>\n",
       "      <td>56</td>\n",
       "      <td>10</td>\n",
       "      <td>2</td>\n",
       "      <td>...</td>\n",
       "      <td>315</td>\n",
       "      <td>342</td>\n",
       "      <td>523</td>\n",
       "      <td>600</td>\n",
       "      <td>683</td>\n",
       "      <td>743</td>\n",
       "      <td>822</td>\n",
       "      <td>897</td>\n",
       "      <td>913</td>\n",
       "      <td>1034</td>\n",
       "    </tr>\n",
       "    <tr>\n",
       "      <th>6</th>\n",
       "      <td>100</td>\n",
       "      <td>57</td>\n",
       "      <td>27</td>\n",
       "      <td>26</td>\n",
       "      <td>51</td>\n",
       "      <td>33</td>\n",
       "      <td>100</td>\n",
       "      <td>11</td>\n",
       "      <td>53</td>\n",
       "      <td>1</td>\n",
       "      <td>...</td>\n",
       "      <td>415</td>\n",
       "      <td>472</td>\n",
       "      <td>550</td>\n",
       "      <td>626</td>\n",
       "      <td>734</td>\n",
       "      <td>776</td>\n",
       "      <td>922</td>\n",
       "      <td>933</td>\n",
       "      <td>986</td>\n",
       "      <td>1035</td>\n",
       "    </tr>\n",
       "    <tr>\n",
       "      <th>7</th>\n",
       "      <td>11</td>\n",
       "      <td>79</td>\n",
       "      <td>49</td>\n",
       "      <td>46</td>\n",
       "      <td>37</td>\n",
       "      <td>69</td>\n",
       "      <td>80</td>\n",
       "      <td>31</td>\n",
       "      <td>25</td>\n",
       "      <td>39</td>\n",
       "      <td>...</td>\n",
       "      <td>426</td>\n",
       "      <td>551</td>\n",
       "      <td>600</td>\n",
       "      <td>672</td>\n",
       "      <td>771</td>\n",
       "      <td>845</td>\n",
       "      <td>1002</td>\n",
       "      <td>1033</td>\n",
       "      <td>1058</td>\n",
       "      <td>1097</td>\n",
       "    </tr>\n",
       "    <tr>\n",
       "      <th>8</th>\n",
       "      <td>22</td>\n",
       "      <td>71</td>\n",
       "      <td>20</td>\n",
       "      <td>23</td>\n",
       "      <td>11</td>\n",
       "      <td>12</td>\n",
       "      <td>39</td>\n",
       "      <td>16</td>\n",
       "      <td>64</td>\n",
       "      <td>34</td>\n",
       "      <td>...</td>\n",
       "      <td>448</td>\n",
       "      <td>622</td>\n",
       "      <td>642</td>\n",
       "      <td>695</td>\n",
       "      <td>782</td>\n",
       "      <td>857</td>\n",
       "      <td>1041</td>\n",
       "      <td>1057</td>\n",
       "      <td>1122</td>\n",
       "      <td>1156</td>\n",
       "    </tr>\n",
       "    <tr>\n",
       "      <th>9</th>\n",
       "      <td>4</td>\n",
       "      <td>25</td>\n",
       "      <td>87</td>\n",
       "      <td>84</td>\n",
       "      <td>30</td>\n",
       "      <td>48</td>\n",
       "      <td>77</td>\n",
       "      <td>13</td>\n",
       "      <td>40</td>\n",
       "      <td>33</td>\n",
       "      <td>...</td>\n",
       "      <td>452</td>\n",
       "      <td>647</td>\n",
       "      <td>734</td>\n",
       "      <td>818</td>\n",
       "      <td>848</td>\n",
       "      <td>905</td>\n",
       "      <td>1118</td>\n",
       "      <td>1131</td>\n",
       "      <td>1171</td>\n",
       "      <td>1204</td>\n",
       "    </tr>\n",
       "  </tbody>\n",
       "</table>\n",
       "<p>10 rows × 21 columns</p>\n",
       "</div>"
      ],
      "text/plain": [
       "    0   1   2   3   4    5    6   7   8   9   ...   11   12   13   14   15  \\\n",
       "0   51  21  93  48  45  100   67  39  18  29  ...   51   72  165  213  258   \n",
       "1   57  43  97  51  92   10   93  32  19  58  ...  108  151  262  313  405   \n",
       "2   63  16  31  16  78   88   90  72  37  67  ...  171  187  293  329  483   \n",
       "3   10  57  64  25  96   50   81  65  91  69  ...  181  244  357  382  579   \n",
       "4   99  43  95   7  40   76   18  34   5  65  ...  280  323  452  459  619   \n",
       "5   35  19  71  77  64   38   62  56  10   2  ...  315  342  523  600  683   \n",
       "6  100  57  27  26  51   33  100  11  53   1  ...  415  472  550  626  734   \n",
       "7   11  79  49  46  37   69   80  31  25  39  ...  426  551  600  672  771   \n",
       "8   22  71  20  23  11   12   39  16  64  34  ...  448  622  642  695  782   \n",
       "9    4  25  87  84  30   48   77  13  40  33  ...  452  647  734  818  848   \n",
       "\n",
       "    16    17    18    19    20  \n",
       "0  358   425   464   482   511  \n",
       "1  415   518   550   569   627  \n",
       "2  571   661   733   770   837  \n",
       "3  629   742   807   898   967  \n",
       "4  705   760   841   903  1032  \n",
       "5  743   822   897   913  1034  \n",
       "6  776   922   933   986  1035  \n",
       "7  845  1002  1033  1058  1097  \n",
       "8  857  1041  1057  1122  1156  \n",
       "9  905  1118  1131  1171  1204  \n",
       "\n",
       "[10 rows x 21 columns]"
      ]
     },
     "execution_count": 4,
     "metadata": {},
     "output_type": "execute_result"
    }
   ],
   "source": [
    "import pandas as pd\n",
    "\n",
    "df = pd.read_csv('/Users/Katia/Desktop/18.csv', sep=';', header=None)\n",
    "df.head(df.shape[0])"
   ]
  },
  {
   "cell_type": "code",
   "execution_count": 19,
   "metadata": {},
   "outputs": [
    {
     "name": "stdout",
     "output_type": "stream",
     "text": [
      "10 x 10\n"
     ]
    },
    {
     "data": {
      "text/plain": [
       "[[51, 21, 93, 48, 45, 100, 67, 39, 18, 29],\n",
       " [57, 43, 97, 51, 92, 10, 93, 32, 19, 58],\n",
       " [63, 16, 31, 16, 78, 88, 90, 72, 37, 67],\n",
       " [10, 57, 64, 25, 96, 50, 81, 65, 91, 69],\n",
       " [99, 43, 95, 7, 40, 76, 18, 34, 5, 65],\n",
       " [35, 19, 71, 77, 64, 38, 62, 56, 10, 2],\n",
       " [100, 57, 27, 26, 51, 33, 100, 11, 53, 1],\n",
       " [11, 79, 49, 46, 37, 69, 80, 31, 25, 39],\n",
       " [22, 71, 20, 23, 11, 12, 39, 16, 64, 34],\n",
       " [4, 25, 87, 84, 30, 48, 77, 13, 40, 33]]"
      ]
     },
     "execution_count": 19,
     "metadata": {},
     "output_type": "execute_result"
    }
   ],
   "source": [
    "#Считываем данные из файла, как список списков(каждую строку в файле разбиваем по точке с запятой, меняем тип на int)\n",
    "def read_information():\n",
    "    data = []\n",
    "    with open('/Users/Katia/Desktop/18.csv', 'r') as file:\n",
    "        for line in file:\n",
    "            row = list(map(int, line.rstrip().split(';')))\n",
    "            data.append(row) \n",
    "    return data\n",
    "\n",
    "data_matrix = read_information() \n",
    "\n",
    "#Определяем количество строк\n",
    "M = len(data_matrix)\n",
    "#Определяем количество столбцов\n",
    "N = len(data_matrix[0])\n",
    "print(M, 'x', N)\n",
    "    \n",
    "data_matrix"
   ]
  },
  {
   "cell_type": "code",
   "execution_count": 22,
   "metadata": {},
   "outputs": [
    {
     "data": {
      "text/plain": [
       "[[0, 0, 0, 0, 0, 0, 0, 0, 0, 0],\n",
       " [0, 0, 0, 0, 0, 0, 0, 0, 0, 0],\n",
       " [0, 0, 0, 0, 0, 0, 0, 0, 0, 0],\n",
       " [0, 0, 0, 0, 0, 0, 0, 0, 0, 0],\n",
       " [0, 0, 0, 0, 0, 0, 0, 0, 0, 0],\n",
       " [0, 0, 0, 0, 0, 0, 0, 0, 0, 0],\n",
       " [0, 0, 0, 0, 0, 0, 0, 0, 0, 0],\n",
       " [0, 0, 0, 0, 0, 0, 0, 0, 0, 0],\n",
       " [0, 0, 0, 0, 0, 0, 0, 0, 0, 0],\n",
       " [0, 0, 0, 0, 0, 0, 0, 0, 0, 0]]"
      ]
     },
     "execution_count": 22,
     "metadata": {},
     "output_type": "execute_result"
    }
   ],
   "source": [
    "# work_matrix = [ [0]*M for i in range(N)]\n",
    "# work_matrix\n",
    "\n",
    "#Новая матрица, заполненная нулями\n",
    "work_matrix = []\n",
    "for i in range(M):\n",
    "    work_matrix.append([0]*N)\n",
    "work_matrix"
   ]
  },
  {
   "cell_type": "code",
   "execution_count": 23,
   "metadata": {},
   "outputs": [
    {
     "data": {
      "text/plain": [
       "[[51, 0, 0, 0, 0, 0, 0, 0, 0, 0],\n",
       " [0, 0, 0, 0, 0, 0, 0, 0, 0, 0],\n",
       " [0, 0, 0, 0, 0, 0, 0, 0, 0, 0],\n",
       " [0, 0, 0, 0, 0, 0, 0, 0, 0, 0],\n",
       " [0, 0, 0, 0, 0, 0, 0, 0, 0, 0],\n",
       " [0, 0, 0, 0, 0, 0, 0, 0, 0, 0],\n",
       " [0, 0, 0, 0, 0, 0, 0, 0, 0, 0],\n",
       " [0, 0, 0, 0, 0, 0, 0, 0, 0, 0],\n",
       " [0, 0, 0, 0, 0, 0, 0, 0, 0, 0],\n",
       " [0, 0, 0, 0, 0, 0, 0, 0, 0, 0]]"
      ]
     },
     "execution_count": 23,
     "metadata": {},
     "output_type": "execute_result"
    }
   ],
   "source": [
    "#Заполняем ячейку в левом верхнем углу\n",
    "work_matrix[0][0] = data_matrix[0][0]\n",
    "work_matrix"
   ]
  },
  {
   "cell_type": "code",
   "execution_count": 24,
   "metadata": {},
   "outputs": [
    {
     "data": {
      "text/plain": [
       "[[51, 72, 165, 213, 258, 358, 425, 464, 482, 511],\n",
       " [0, 0, 0, 0, 0, 0, 0, 0, 0, 0],\n",
       " [0, 0, 0, 0, 0, 0, 0, 0, 0, 0],\n",
       " [0, 0, 0, 0, 0, 0, 0, 0, 0, 0],\n",
       " [0, 0, 0, 0, 0, 0, 0, 0, 0, 0],\n",
       " [0, 0, 0, 0, 0, 0, 0, 0, 0, 0],\n",
       " [0, 0, 0, 0, 0, 0, 0, 0, 0, 0],\n",
       " [0, 0, 0, 0, 0, 0, 0, 0, 0, 0],\n",
       " [0, 0, 0, 0, 0, 0, 0, 0, 0, 0],\n",
       " [0, 0, 0, 0, 0, 0, 0, 0, 0, 0]]"
      ]
     },
     "execution_count": 24,
     "metadata": {},
     "output_type": "execute_result"
    }
   ],
   "source": [
    "#Заполняем первую строку\n",
    "for col in range(1, M):\n",
    "    work_matrix[0][col] = data_matrix[0][col] + work_matrix[0][col-1]\n",
    "#     print(work_matrix[0][col-1], '+', data_matrix[0][col])\n",
    "work_matrix"
   ]
  },
  {
   "cell_type": "code",
   "execution_count": 25,
   "metadata": {},
   "outputs": [
    {
     "data": {
      "text/plain": [
       "[[51, 72, 165, 213, 258, 358, 425, 464, 482, 511],\n",
       " [108, 0, 0, 0, 0, 0, 0, 0, 0, 0],\n",
       " [171, 0, 0, 0, 0, 0, 0, 0, 0, 0],\n",
       " [181, 0, 0, 0, 0, 0, 0, 0, 0, 0],\n",
       " [280, 0, 0, 0, 0, 0, 0, 0, 0, 0],\n",
       " [315, 0, 0, 0, 0, 0, 0, 0, 0, 0],\n",
       " [415, 0, 0, 0, 0, 0, 0, 0, 0, 0],\n",
       " [426, 0, 0, 0, 0, 0, 0, 0, 0, 0],\n",
       " [448, 0, 0, 0, 0, 0, 0, 0, 0, 0],\n",
       " [452, 0, 0, 0, 0, 0, 0, 0, 0, 0]]"
      ]
     },
     "execution_count": 25,
     "metadata": {},
     "output_type": "execute_result"
    }
   ],
   "source": [
    "#Заполняем первый столбец\n",
    "for row in range(1, N):\n",
    "    work_matrix[row][0] = data_matrix[row][0] + work_matrix[row-1][0]\n",
    "#     print(work_matrix[row-1][0], '+', data_matrix[row][0])\n",
    "work_matrix"
   ]
  },
  {
   "cell_type": "code",
   "execution_count": 26,
   "metadata": {},
   "outputs": [
    {
     "data": {
      "text/plain": [
       "[[51, 72, 165, 213, 258, 358, 425, 464, 482, 511],\n",
       " [108, 151, 262, 313, 405, 415, 518, 550, 569, 627],\n",
       " [171, 187, 293, 329, 483, 571, 661, 733, 770, 837],\n",
       " [181, 244, 357, 382, 579, 629, 742, 807, 898, 967],\n",
       " [280, 323, 452, 459, 619, 705, 760, 841, 903, 1032],\n",
       " [315, 342, 523, 600, 683, 743, 822, 897, 913, 1034],\n",
       " [415, 472, 550, 626, 734, 776, 922, 933, 986, 1035],\n",
       " [426, 551, 600, 672, 771, 845, 1002, 1033, 1058, 1097],\n",
       " [448, 622, 642, 695, 782, 857, 1041, 1057, 1122, 1156],\n",
       " [452, 647, 734, 818, 848, 905, 1118, 1131, 1171, 1204]]"
      ]
     },
     "execution_count": 26,
     "metadata": {},
     "output_type": "execute_result"
    }
   ],
   "source": [
    "for row in range(1, N):\n",
    "    for col in range(1, M):\n",
    "        work_matrix[row][col] = data_matrix[row][col] + max(work_matrix[row][col-1], work_matrix[row-1][col])\n",
    "work_matrix"
   ]
  },
  {
   "cell_type": "code",
   "execution_count": 27,
   "metadata": {},
   "outputs": [
    {
     "data": {
      "text/html": [
       "<div>\n",
       "<style scoped>\n",
       "    .dataframe tbody tr th:only-of-type {\n",
       "        vertical-align: middle;\n",
       "    }\n",
       "\n",
       "    .dataframe tbody tr th {\n",
       "        vertical-align: top;\n",
       "    }\n",
       "\n",
       "    .dataframe thead th {\n",
       "        text-align: right;\n",
       "    }\n",
       "</style>\n",
       "<table border=\"1\" class=\"dataframe\">\n",
       "  <thead>\n",
       "    <tr style=\"text-align: right;\">\n",
       "      <th></th>\n",
       "      <th>0</th>\n",
       "      <th>1</th>\n",
       "      <th>2</th>\n",
       "      <th>3</th>\n",
       "      <th>4</th>\n",
       "      <th>5</th>\n",
       "      <th>6</th>\n",
       "      <th>7</th>\n",
       "      <th>8</th>\n",
       "      <th>9</th>\n",
       "    </tr>\n",
       "  </thead>\n",
       "  <tbody>\n",
       "    <tr>\n",
       "      <th>0</th>\n",
       "      <td>51</td>\n",
       "      <td>72</td>\n",
       "      <td>165</td>\n",
       "      <td>213</td>\n",
       "      <td>258</td>\n",
       "      <td>358</td>\n",
       "      <td>425</td>\n",
       "      <td>464</td>\n",
       "      <td>482</td>\n",
       "      <td>511</td>\n",
       "    </tr>\n",
       "    <tr>\n",
       "      <th>1</th>\n",
       "      <td>108</td>\n",
       "      <td>151</td>\n",
       "      <td>262</td>\n",
       "      <td>313</td>\n",
       "      <td>405</td>\n",
       "      <td>415</td>\n",
       "      <td>518</td>\n",
       "      <td>550</td>\n",
       "      <td>569</td>\n",
       "      <td>627</td>\n",
       "    </tr>\n",
       "    <tr>\n",
       "      <th>2</th>\n",
       "      <td>171</td>\n",
       "      <td>187</td>\n",
       "      <td>293</td>\n",
       "      <td>329</td>\n",
       "      <td>483</td>\n",
       "      <td>571</td>\n",
       "      <td>661</td>\n",
       "      <td>733</td>\n",
       "      <td>770</td>\n",
       "      <td>837</td>\n",
       "    </tr>\n",
       "    <tr>\n",
       "      <th>3</th>\n",
       "      <td>181</td>\n",
       "      <td>244</td>\n",
       "      <td>357</td>\n",
       "      <td>382</td>\n",
       "      <td>579</td>\n",
       "      <td>629</td>\n",
       "      <td>742</td>\n",
       "      <td>807</td>\n",
       "      <td>898</td>\n",
       "      <td>967</td>\n",
       "    </tr>\n",
       "    <tr>\n",
       "      <th>4</th>\n",
       "      <td>280</td>\n",
       "      <td>323</td>\n",
       "      <td>452</td>\n",
       "      <td>459</td>\n",
       "      <td>619</td>\n",
       "      <td>705</td>\n",
       "      <td>760</td>\n",
       "      <td>841</td>\n",
       "      <td>903</td>\n",
       "      <td>1032</td>\n",
       "    </tr>\n",
       "    <tr>\n",
       "      <th>5</th>\n",
       "      <td>315</td>\n",
       "      <td>342</td>\n",
       "      <td>523</td>\n",
       "      <td>600</td>\n",
       "      <td>683</td>\n",
       "      <td>743</td>\n",
       "      <td>822</td>\n",
       "      <td>897</td>\n",
       "      <td>913</td>\n",
       "      <td>1034</td>\n",
       "    </tr>\n",
       "    <tr>\n",
       "      <th>6</th>\n",
       "      <td>415</td>\n",
       "      <td>472</td>\n",
       "      <td>550</td>\n",
       "      <td>626</td>\n",
       "      <td>734</td>\n",
       "      <td>776</td>\n",
       "      <td>922</td>\n",
       "      <td>933</td>\n",
       "      <td>986</td>\n",
       "      <td>1035</td>\n",
       "    </tr>\n",
       "    <tr>\n",
       "      <th>7</th>\n",
       "      <td>426</td>\n",
       "      <td>551</td>\n",
       "      <td>600</td>\n",
       "      <td>672</td>\n",
       "      <td>771</td>\n",
       "      <td>845</td>\n",
       "      <td>1002</td>\n",
       "      <td>1033</td>\n",
       "      <td>1058</td>\n",
       "      <td>1097</td>\n",
       "    </tr>\n",
       "    <tr>\n",
       "      <th>8</th>\n",
       "      <td>448</td>\n",
       "      <td>622</td>\n",
       "      <td>642</td>\n",
       "      <td>695</td>\n",
       "      <td>782</td>\n",
       "      <td>857</td>\n",
       "      <td>1041</td>\n",
       "      <td>1057</td>\n",
       "      <td>1122</td>\n",
       "      <td>1156</td>\n",
       "    </tr>\n",
       "    <tr>\n",
       "      <th>9</th>\n",
       "      <td>452</td>\n",
       "      <td>647</td>\n",
       "      <td>734</td>\n",
       "      <td>818</td>\n",
       "      <td>848</td>\n",
       "      <td>905</td>\n",
       "      <td>1118</td>\n",
       "      <td>1131</td>\n",
       "      <td>1171</td>\n",
       "      <td>1204</td>\n",
       "    </tr>\n",
       "  </tbody>\n",
       "</table>\n",
       "</div>"
      ],
      "text/plain": [
       "     0    1    2    3    4    5     6     7     8     9\n",
       "0   51   72  165  213  258  358   425   464   482   511\n",
       "1  108  151  262  313  405  415   518   550   569   627\n",
       "2  171  187  293  329  483  571   661   733   770   837\n",
       "3  181  244  357  382  579  629   742   807   898   967\n",
       "4  280  323  452  459  619  705   760   841   903  1032\n",
       "5  315  342  523  600  683  743   822   897   913  1034\n",
       "6  415  472  550  626  734  776   922   933   986  1035\n",
       "7  426  551  600  672  771  845  1002  1033  1058  1097\n",
       "8  448  622  642  695  782  857  1041  1057  1122  1156\n",
       "9  452  647  734  818  848  905  1118  1131  1171  1204"
      ]
     },
     "execution_count": 27,
     "metadata": {},
     "output_type": "execute_result"
    }
   ],
   "source": [
    "pd.DataFrame(work_matrix)"
   ]
  },
  {
   "cell_type": "code",
   "execution_count": 30,
   "metadata": {},
   "outputs": [
    {
     "data": {
      "text/plain": [
       "1204"
      ]
     },
     "execution_count": 30,
     "metadata": {},
     "output_type": "execute_result"
    }
   ],
   "source": [
    "#Значение правого нижнего угла - максимум\n",
    "work_matrix[M-1][N-1]"
   ]
  },
  {
   "cell_type": "code",
   "execution_count": 31,
   "metadata": {},
   "outputs": [
    {
     "data": {
      "text/plain": [
       "[[51, 72, 165, 213, 258, 358, 425, 464, 482, 511],\n",
       " [108, 115, 212, 263, 350, 360, 453, 485, 501, 559],\n",
       " [171, 131, 162, 178, 256, 344, 434, 506, 538, 605],\n",
       " [181, 188, 226, 203, 299, 349, 430, 495, 586, 655],\n",
       " [280, 231, 321, 210, 250, 326, 344, 378, 383, 448],\n",
       " [315, 250, 321, 287, 314, 352, 406, 434, 393, 395],\n",
       " [415, 307, 334, 313, 364, 385, 485, 445, 446, 396],\n",
       " [426, 386, 383, 359, 396, 454, 534, 476, 471, 435],\n",
       " [448, 457, 403, 382, 393, 405, 444, 460, 524, 469],\n",
       " [452, 477, 490, 466, 423, 453, 521, 473, 513, 502]]"
      ]
     },
     "execution_count": 31,
     "metadata": {},
     "output_type": "execute_result"
    }
   ],
   "source": [
    "for row in range(1, N):\n",
    "    for col in range(1, M):\n",
    "        work_matrix[row][col] = data_matrix[row][col] + min(work_matrix[row][col-1], work_matrix[row-1][col])\n",
    "work_matrix"
   ]
  },
  {
   "cell_type": "code",
   "execution_count": 32,
   "metadata": {},
   "outputs": [
    {
     "data": {
      "text/html": [
       "<div>\n",
       "<style scoped>\n",
       "    .dataframe tbody tr th:only-of-type {\n",
       "        vertical-align: middle;\n",
       "    }\n",
       "\n",
       "    .dataframe tbody tr th {\n",
       "        vertical-align: top;\n",
       "    }\n",
       "\n",
       "    .dataframe thead th {\n",
       "        text-align: right;\n",
       "    }\n",
       "</style>\n",
       "<table border=\"1\" class=\"dataframe\">\n",
       "  <thead>\n",
       "    <tr style=\"text-align: right;\">\n",
       "      <th></th>\n",
       "      <th>0</th>\n",
       "      <th>1</th>\n",
       "      <th>2</th>\n",
       "      <th>3</th>\n",
       "      <th>4</th>\n",
       "      <th>5</th>\n",
       "      <th>6</th>\n",
       "      <th>7</th>\n",
       "      <th>8</th>\n",
       "      <th>9</th>\n",
       "    </tr>\n",
       "  </thead>\n",
       "  <tbody>\n",
       "    <tr>\n",
       "      <th>0</th>\n",
       "      <td>51</td>\n",
       "      <td>72</td>\n",
       "      <td>165</td>\n",
       "      <td>213</td>\n",
       "      <td>258</td>\n",
       "      <td>358</td>\n",
       "      <td>425</td>\n",
       "      <td>464</td>\n",
       "      <td>482</td>\n",
       "      <td>511</td>\n",
       "    </tr>\n",
       "    <tr>\n",
       "      <th>1</th>\n",
       "      <td>108</td>\n",
       "      <td>115</td>\n",
       "      <td>212</td>\n",
       "      <td>263</td>\n",
       "      <td>350</td>\n",
       "      <td>360</td>\n",
       "      <td>453</td>\n",
       "      <td>485</td>\n",
       "      <td>501</td>\n",
       "      <td>559</td>\n",
       "    </tr>\n",
       "    <tr>\n",
       "      <th>2</th>\n",
       "      <td>171</td>\n",
       "      <td>131</td>\n",
       "      <td>162</td>\n",
       "      <td>178</td>\n",
       "      <td>256</td>\n",
       "      <td>344</td>\n",
       "      <td>434</td>\n",
       "      <td>506</td>\n",
       "      <td>538</td>\n",
       "      <td>605</td>\n",
       "    </tr>\n",
       "    <tr>\n",
       "      <th>3</th>\n",
       "      <td>181</td>\n",
       "      <td>188</td>\n",
       "      <td>226</td>\n",
       "      <td>203</td>\n",
       "      <td>299</td>\n",
       "      <td>349</td>\n",
       "      <td>430</td>\n",
       "      <td>495</td>\n",
       "      <td>586</td>\n",
       "      <td>655</td>\n",
       "    </tr>\n",
       "    <tr>\n",
       "      <th>4</th>\n",
       "      <td>280</td>\n",
       "      <td>231</td>\n",
       "      <td>321</td>\n",
       "      <td>210</td>\n",
       "      <td>250</td>\n",
       "      <td>326</td>\n",
       "      <td>344</td>\n",
       "      <td>378</td>\n",
       "      <td>383</td>\n",
       "      <td>448</td>\n",
       "    </tr>\n",
       "    <tr>\n",
       "      <th>5</th>\n",
       "      <td>315</td>\n",
       "      <td>250</td>\n",
       "      <td>321</td>\n",
       "      <td>287</td>\n",
       "      <td>314</td>\n",
       "      <td>352</td>\n",
       "      <td>406</td>\n",
       "      <td>434</td>\n",
       "      <td>393</td>\n",
       "      <td>395</td>\n",
       "    </tr>\n",
       "    <tr>\n",
       "      <th>6</th>\n",
       "      <td>415</td>\n",
       "      <td>307</td>\n",
       "      <td>334</td>\n",
       "      <td>313</td>\n",
       "      <td>364</td>\n",
       "      <td>385</td>\n",
       "      <td>485</td>\n",
       "      <td>445</td>\n",
       "      <td>446</td>\n",
       "      <td>396</td>\n",
       "    </tr>\n",
       "    <tr>\n",
       "      <th>7</th>\n",
       "      <td>426</td>\n",
       "      <td>386</td>\n",
       "      <td>383</td>\n",
       "      <td>359</td>\n",
       "      <td>396</td>\n",
       "      <td>454</td>\n",
       "      <td>534</td>\n",
       "      <td>476</td>\n",
       "      <td>471</td>\n",
       "      <td>435</td>\n",
       "    </tr>\n",
       "    <tr>\n",
       "      <th>8</th>\n",
       "      <td>448</td>\n",
       "      <td>457</td>\n",
       "      <td>403</td>\n",
       "      <td>382</td>\n",
       "      <td>393</td>\n",
       "      <td>405</td>\n",
       "      <td>444</td>\n",
       "      <td>460</td>\n",
       "      <td>524</td>\n",
       "      <td>469</td>\n",
       "    </tr>\n",
       "    <tr>\n",
       "      <th>9</th>\n",
       "      <td>452</td>\n",
       "      <td>477</td>\n",
       "      <td>490</td>\n",
       "      <td>466</td>\n",
       "      <td>423</td>\n",
       "      <td>453</td>\n",
       "      <td>521</td>\n",
       "      <td>473</td>\n",
       "      <td>513</td>\n",
       "      <td>502</td>\n",
       "    </tr>\n",
       "  </tbody>\n",
       "</table>\n",
       "</div>"
      ],
      "text/plain": [
       "     0    1    2    3    4    5    6    7    8    9\n",
       "0   51   72  165  213  258  358  425  464  482  511\n",
       "1  108  115  212  263  350  360  453  485  501  559\n",
       "2  171  131  162  178  256  344  434  506  538  605\n",
       "3  181  188  226  203  299  349  430  495  586  655\n",
       "4  280  231  321  210  250  326  344  378  383  448\n",
       "5  315  250  321  287  314  352  406  434  393  395\n",
       "6  415  307  334  313  364  385  485  445  446  396\n",
       "7  426  386  383  359  396  454  534  476  471  435\n",
       "8  448  457  403  382  393  405  444  460  524  469\n",
       "9  452  477  490  466  423  453  521  473  513  502"
      ]
     },
     "execution_count": 32,
     "metadata": {},
     "output_type": "execute_result"
    }
   ],
   "source": [
    "pd.DataFrame(work_matrix)"
   ]
  },
  {
   "cell_type": "code",
   "execution_count": 33,
   "metadata": {},
   "outputs": [
    {
     "data": {
      "text/plain": [
       "502"
      ]
     },
     "execution_count": 33,
     "metadata": {},
     "output_type": "execute_result"
    }
   ],
   "source": [
    "#Значение правого нижнего угла - минимум\n",
    "work_matrix[M-1][N-1]"
   ]
  },
  {
   "cell_type": "markdown",
   "metadata": {},
   "source": [
    "## map"
   ]
  },
  {
   "cell_type": "code",
   "execution_count": 7,
   "metadata": {},
   "outputs": [
    {
     "name": "stdout",
     "output_type": "stream",
     "text": [
      "for 1 = [1, 1, 1]\n",
      "for 2 = [4, 8, 16]\n",
      "for 3 = [9, 27, 81]\n",
      "for 4 = [16, 64, 256]\n",
      "for 5 = [25, 125, 625]\n",
      "for 6 = [36, 216, 1296]\n",
      "for 7 = [49, 343, 2401]\n",
      "for 8 = [64, 512, 4096]\n",
      "for 9 = [81, 729, 6561]\n"
     ]
    }
   ],
   "source": [
    "def square_func(num):\n",
    "    return num**2\n",
    "def tripple_func(num):\n",
    "    return num**3\n",
    "def four_func(num):\n",
    "    return num**4\n",
    "\n",
    "function_list = [square_func, tripple_func, four_func]\n",
    "\n",
    "for i in range(1, 10):\n",
    "    number = map(lambda x: x(i), function_list)\n",
    "    print('for', i, '=', list(number))\n"
   ]
  },
  {
   "cell_type": "code",
   "execution_count": 31,
   "metadata": {},
   "outputs": [
    {
     "name": "stdout",
     "output_type": "stream",
     "text": [
      "5\n",
      "x > 0\n"
     ]
    }
   ],
   "source": [
    "number = int(input())\n",
    "\n",
    "if number > 0: \n",
    "    print('x > 0')\n",
    "elif number < 0:\n",
    "    print('x < 0')\n",
    "else:\n",
    "    print('x = 0')   "
   ]
  },
  {
   "cell_type": "code",
   "execution_count": 53,
   "metadata": {},
   "outputs": [
    {
     "name": "stdout",
     "output_type": "stream",
     "text": [
      "4\n",
      "123\n",
      "3\n"
     ]
    }
   ],
   "source": [
    "number = 1234\n",
    "\n",
    "print(number % 10)\n",
    "number = number // 10\n",
    "print(number)\n",
    "print(number % 10)\n",
    "#print(type(number))"
   ]
  },
  {
   "cell_type": "code",
   "execution_count": 1,
   "metadata": {},
   "outputs": [
    {
     "name": "stdout",
     "output_type": "stream",
     "text": [
      "3.5\n",
      "3\n",
      "1\n"
     ]
    }
   ],
   "source": [
    "print(7 / 2)\n",
    "print(7 // 2) \n",
    "print(7 % 2)"
   ]
  },
  {
   "cell_type": "markdown",
   "metadata": {},
   "source": [
    "## 24-ое задание"
   ]
  },
  {
   "cell_type": "code",
   "execution_count": 28,
   "metadata": {},
   "outputs": [
    {
     "name": "stdout",
     "output_type": "stream",
     "text": [
      "35\n"
     ]
    }
   ],
   "source": [
    "with open('/Users/Katia/Desktop/24.txt', 'r') as file:\n",
    "    text = file.read()\n",
    "\n",
    "max_length, current_length = 1, 1\n",
    "for i in range(1, len(text)):\n",
    "    if text[i] != text[i-1]:\n",
    "        current_length += 1\n",
    "        if current_length > max_length:\n",
    "            max_length = current_length\n",
    "    else:\n",
    "        current_length = 1\n",
    "            \n",
    "print(max_length)    "
   ]
  },
  {
   "cell_type": "markdown",
   "metadata": {},
   "source": [
    "## 25-ое задание"
   ]
  },
  {
   "cell_type": "code",
   "execution_count": 51,
   "metadata": {},
   "outputs": [
    {
     "name": "stdout",
     "output_type": "stream",
     "text": [
      "3 58153 \n",
      "7 24923 \n",
      "59 2957 \n",
      "13 13421 \n",
      "149 1171 \n",
      "5 34897 \n",
      "211 827 \n",
      "2 87251 \n"
     ]
    }
   ],
   "source": [
    "for number in range(174457, 174505+1):\n",
    "    count = 0\n",
    "    dividers = []\n",
    "    for div in range(2, number):\n",
    "        if number % div == 0:\n",
    "            count+=1\n",
    "            dividers.append(div)\n",
    "    if count == 2:\n",
    "        for elem in dividers:\n",
    "            print(elem, end=' ')\n",
    "        print()"
   ]
  },
  {
   "cell_type": "code",
   "execution_count": 73,
   "metadata": {},
   "outputs": [
    {
     "name": "stdout",
     "output_type": "stream",
     "text": [
      "3 58153\n",
      "7 24923\n",
      "59 2957\n",
      "13 13421\n",
      "149 1171\n",
      "5 34897\n",
      "211 827\n",
      "2 87251\n"
     ]
    }
   ],
   "source": [
    "for number in range(174457, 174505+1):\n",
    "    dividers = []\n",
    "    dividers_count = 2 # требуемое количество делителей\n",
    "    for div in range(2, number):\n",
    "        if number % div == 0:\n",
    "            dividers = dividers + [div]\n",
    "        if len(dividers) > dividers_count:\n",
    "            break\n",
    "    if len(dividers) == dividers_count:\n",
    "        print(*dividers)"
   ]
  },
  {
   "cell_type": "code",
   "execution_count": 3,
   "metadata": {},
   "outputs": [
    {
     "name": "stdout",
     "output_type": "stream",
     "text": [
      "3 58153\n",
      "7 24923\n",
      "59 2957\n",
      "13 13421\n",
      "149 1171\n",
      "5 34897\n",
      "211 827\n",
      "2 87251\n"
     ]
    }
   ],
   "source": [
    "from math import sqrt\n",
    "\n",
    "for number in range(174457, 174505+1):\n",
    "    dividers = []\n",
    "    dividers_count = 2 # требуемое количество делителей\n",
    "    for div in range(2, int(sqrt(number))+1):\n",
    "        if number % div == 0:\n",
    "            dividers = dividers + [div, int(number/div)]\n",
    "        if len(dividers) > dividers_count:\n",
    "            break\n",
    "    if len(dividers) == dividers_count:\n",
    "        print(*dividers)"
   ]
  },
  {
   "cell_type": "code",
   "execution_count": 18,
   "metadata": {},
   "outputs": [
    {
     "name": "stdout",
     "output_type": "stream",
     "text": [
      "3 58153\n",
      "7 24923\n",
      "59 2957\n",
      "13 13421\n",
      "149 1171\n",
      "5 34897\n",
      "211 827\n",
      "2 87251\n"
     ]
    }
   ],
   "source": [
    "from math import sqrt\n",
    "\n",
    "for number in range(174457, 174505+1):\n",
    "    dividers = []\n",
    "    dividers_count = 2 # требуемое количество делителей\n",
    "    for div in range(2, int(sqrt(number))+1):\n",
    "        if number % div == 0:\n",
    "            dividers = dividers + [div, int(number/div)]\n",
    "        if len(dividers) > dividers_count:\n",
    "            break\n",
    "    if len(dividers) == dividers_count:\n",
    "        dividers = set(dividers)\n",
    "        dividers = sorted(dividers)\n",
    "        print(*dividers)"
   ]
  },
  {
   "cell_type": "markdown",
   "metadata": {},
   "source": [
    "## 26-ое задание"
   ]
  },
  {
   "cell_type": "code",
   "execution_count": 133,
   "metadata": {},
   "outputs": [
    {
     "name": "stdout",
     "output_type": "stream",
     "text": [
      "Размер свободного места на диске: 8200; количество пользователей: 970\n",
      "[1, 1, 1, 1, 1, 1, 1, 1, 1, 1, 1, 1, 1, 1, 1, 1, 1, 1, 1, 1, 1, 2, 2, 2, 2, 2, 2, 2, 2, 2, 2, 2, 2, 2, 2, 2, 2, 2, 2, 2, 2, 2, 3, 3, 3, 3, 3, 3, 3, 3, 3, 3, 3, 3, 3, 3, 3, 3, 3, 3, 4, 4, 4, 4, 4, 4, 4, 4, 4, 4, 4, 4, 4, 4, 4, 4, 4, 4, 4, 4, 5, 5, 5, 5, 5, 5, 5, 5, 5, 5, 5, 5, 5, 5, 5, 5, 5, 5, 5, 5, 5, 5, 5, 5, 5, 5, 6, 6, 6, 6, 6, 6, 6, 6, 6, 6, 6, 6, 6, 6, 6, 6, 6, 6, 6, 6, 6, 6, 6, 6, 6, 6, 7, 7, 7, 7, 7, 7, 7, 7, 7, 7, 7, 7, 7, 7, 7, 7, 7, 7, 7, 7, 7, 8, 8, 8, 8, 8, 8, 8, 8, 8, 8, 8, 8, 8, 8, 8, 8, 8, 9, 9, 9, 9, 9, 9, 9, 9, 9, 9, 9, 9, 9, 9, 9, 9, 9, 9, 9, 9, 9, 9, 10, 10, 10, 10, 10, 10, 10, 10, 10, 10, 10, 10, 10, 10, 10, 10, 10, 10, 10, 10, 10, 10, 10, 10, 10, 10, 11, 11, 11, 11, 11, 11, 11, 11, 11, 11, 11, 11, 11, 11, 11, 11, 11, 11, 11, 11, 12, 12, 12, 12, 12, 12, 12, 12, 12, 12, 12, 12, 12, 12, 12, 12, 12, 12, 12, 12, 12, 12, 12, 12, 12, 12, 12, 13, 13, 13, 13, 13, 13, 13, 13, 13, 13, 13, 13, 13, 13, 13, 13, 13, 14, 14, 14, 14, 14, 14, 14, 14, 14, 14, 14, 14, 14, 14, 14, 14, 15, 15, 15, 15, 15, 15, 15, 15, 15, 15, 15, 15, 15, 15, 16, 16, 16, 16, 16, 16, 16, 16, 16, 16, 16, 16, 16, 16, 16, 16, 16, 16, 16, 16, 16, 16, 16, 17, 17, 17, 17, 17, 17, 17, 17, 17, 17, 17, 17, 17, 17, 17, 17, 17, 18, 18, 18, 18, 18, 18, 18, 18, 18, 18, 18, 18, 18, 19, 19, 19, 19, 19, 19, 19, 19, 19, 19, 19, 19, 19, 19, 19, 19, 19, 19, 20, 20, 20, 20, 20, 20, 20, 20, 20, 20, 20, 20, 20, 20, 20, 20, 21, 21, 21, 21, 21, 21, 21, 21, 21, 21, 21, 21, 21, 21, 21, 21, 21, 21, 21, 21, 21, 21, 21, 21, 22, 22, 22, 22, 22, 22, 22, 22, 22, 22, 22, 22, 22, 22, 22, 22, 22, 22, 22, 22, 23, 23, 23, 23, 23, 23, 23, 23, 23, 23, 23, 23, 23, 23, 23, 23, 23, 23, 23, 23, 23, 24, 24, 24, 24, 24, 24, 24, 24, 24, 24, 24, 24, 24, 24, 24, 24, 24, 24, 24, 25, 25, 25, 25, 25, 25, 25, 25, 25, 25, 25, 25, 25, 26, 26, 26, 26, 26, 26, 26, 26, 26, 26, 26, 26, 26, 26, 27, 27, 27, 27, 27, 27, 27, 27, 27, 27, 27, 27, 27, 27, 27, 27, 27, 27, 27, 28, 28, 28, 28, 28, 28, 28, 28, 28, 28, 28, 28, 28, 28, 28, 28, 29, 29, 29, 29, 29, 29, 29, 29, 29, 29, 29, 29, 29, 29, 29, 29, 29, 29, 29, 29, 29, 29, 29, 30, 30, 30, 30, 30, 30, 30, 30, 30, 30, 30, 30, 30, 30, 30, 30, 30, 30, 31, 31, 31, 31, 31, 31, 31, 31, 31, 31, 31, 31, 31, 31, 31, 31, 31, 31, 32, 32, 32, 32, 32, 32, 32, 32, 32, 32, 32, 32, 32, 32, 33, 33, 33, 33, 33, 33, 33, 33, 33, 33, 33, 33, 33, 33, 33, 33, 33, 33, 33, 33, 33, 33, 33, 33, 33, 33, 33, 33, 33, 34, 34, 34, 34, 34, 34, 34, 34, 34, 34, 34, 34, 34, 34, 34, 34, 34, 34, 34, 35, 35, 35, 35, 35, 35, 35, 35, 35, 35, 35, 35, 35, 35, 35, 35, 35, 35, 35, 35, 35, 35, 35, 35, 36, 36, 36, 36, 36, 36, 36, 36, 36, 36, 36, 36, 36, 37, 37, 37, 37, 37, 37, 37, 37, 37, 37, 37, 37, 37, 37, 37, 37, 37, 37, 37, 37, 37, 37, 37, 38, 38, 38, 38, 38, 38, 38, 38, 38, 38, 38, 38, 38, 38, 38, 38, 38, 38, 38, 38, 38, 38, 38, 38, 39, 39, 39, 39, 39, 39, 39, 39, 39, 39, 39, 39, 39, 39, 39, 39, 39, 39, 39, 39, 40, 40, 40, 40, 40, 40, 40, 40, 40, 40, 40, 40, 40, 40, 40, 40, 40, 41, 41, 41, 41, 41, 41, 41, 41, 41, 41, 41, 41, 41, 41, 41, 41, 41, 41, 42, 42, 42, 42, 42, 42, 42, 42, 42, 42, 42, 42, 42, 42, 42, 42, 42, 42, 42, 42, 42, 42, 42, 42, 42, 42, 42, 42, 43, 43, 43, 43, 43, 43, 43, 43, 43, 43, 43, 43, 43, 43, 43, 43, 43, 44, 44, 44, 44, 44, 44, 44, 44, 44, 44, 44, 44, 44, 44, 44, 44, 44, 44, 45, 45, 45, 45, 45, 45, 45, 45, 45, 45, 45, 45, 45, 45, 45, 45, 45, 45, 46, 46, 46, 46, 46, 46, 46, 46, 46, 46, 46, 46, 46, 46, 46, 46, 46, 46, 47, 47, 47, 47, 47, 47, 47, 47, 47, 47, 47, 47, 47, 47, 47, 47, 47, 48, 48, 48, 48, 48, 48, 48, 48, 48, 48, 48, 48, 48, 48, 48, 48, 48, 49, 49, 49, 49, 49, 49, 49, 49, 49, 49, 49, 49, 49, 49, 49, 49, 49, 49, 49, 49, 49, 50, 50, 50, 50, 50, 50, 50, 50, 50, 50, 70]\n",
      "Наибольшее число пользователей: 568; максимальный размер имеющегося файла: 50\n"
     ]
    }
   ],
   "source": [
    "with open('/Users/Katia/Desktop/26.txt', 'r') as file:\n",
    "    data = file.readlines()\n",
    "\n",
    "S, N = map(int, data[0].strip().split())\n",
    "print('Размер свободного места на диске: {}; количество пользователей: {}'.format(S, N))\n",
    "del data[0]\n",
    "\n",
    "data = sorted(list(map(int, data)))\n",
    "print(data)\n",
    "\n",
    "# накапливаем сумму в переменной total, пока она остается не больше, чем S\n",
    "total = 0\n",
    "last_index = 0\n",
    "for i in range(N):\n",
    "    if (total + data[i]) <= S:\n",
    "        total+=data[i]\n",
    "        last_index = i\n",
    "# индекс последнего подходящего элемента - значит число пользователей на один больше, так как нумерация индексов начинается с нуля\n",
    "# print('Индекс последнего подходящего элемента:', last_index) \n",
    "\n",
    "max_elem = data[last_index]\n",
    "# Вычитаем максимальный элемент, так как будем проверять другие элементы\n",
    "total -= max_elem\n",
    "\n",
    "for i in range(last_index + 1, N):\n",
    "    if total+data[i] <= S:\n",
    "        max_elem = data[i]\n",
    "\n",
    "print('Наибольшее число пользователей: {}; максимальный размер имеющегося файла: {}'.format(last_index + 1, max_elem))"
   ]
  },
  {
   "cell_type": "markdown",
   "metadata": {},
   "source": [
    "## 27-ое задание"
   ]
  },
  {
   "cell_type": "code",
   "execution_count": 1,
   "metadata": {},
   "outputs": [
    {
     "name": "stdout",
     "output_type": "stream",
     "text": [
      "127127\n"
     ]
    }
   ],
   "source": [
    "with open('/Users/Katia/Desktop/27-A.txt', 'r') as file:\n",
    "    N = int(file.readline())\n",
    "    summary = 0\n",
    "    min_diff = 10000\n",
    "    for i in range(N):\n",
    "        a, b = map(int, file.readline().split())\n",
    "        summary += max(a, b)\n",
    "        diff = abs(a - b)\n",
    "        if diff % 3 > 0:\n",
    "            min_diff = min(diff, min_diff)\n",
    "    if summary % 3 != 0:\n",
    "        print(summary)\n",
    "    else:\n",
    "        print(summary-min_diff)\n"
   ]
  },
  {
   "cell_type": "code",
   "execution_count": 4,
   "metadata": {},
   "outputs": [
    {
     "name": "stdout",
     "output_type": "stream",
     "text": [
      "Collecting pip\n",
      "  Using cached pip-20.2.4-py2.py3-none-any.whl (1.5 MB)\n",
      "Installing collected packages: pip\n",
      "  Attempting uninstall: pip\n",
      "    Found existing installation: pip 20.2.3\n",
      "    Uninstalling pip-20.2.3:\n",
      "      Successfully uninstalled pip-20.2.3\n",
      "Successfully installed pip-20.2.4\n",
      "Note: you may need to restart the kernel to use updated packages.\n"
     ]
    }
   ],
   "source": [
    "pip install --upgrade pip"
   ]
  },
  {
   "cell_type": "code",
   "execution_count": null,
   "metadata": {},
   "outputs": [],
   "source": []
  }
 ],
 "metadata": {
  "kernelspec": {
   "display_name": "Python 3",
   "language": "python",
   "name": "python3"
  },
  "language_info": {
   "codemirror_mode": {
    "name": "ipython",
    "version": 3
   },
   "file_extension": ".py",
   "mimetype": "text/x-python",
   "name": "python",
   "nbconvert_exporter": "python",
   "pygments_lexer": "ipython3",
   "version": "3.8.2"
  }
 },
 "nbformat": 4,
 "nbformat_minor": 4
}
